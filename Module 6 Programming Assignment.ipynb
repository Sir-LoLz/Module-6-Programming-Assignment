{
 "cells": [
  {
   "cell_type": "markdown",
   "id": "af519b92-f750-4e93-9441-15aad983e4ae",
   "metadata": {},
   "source": [
    "13.1"
   ]
  },
  {
   "cell_type": "code",
   "execution_count": 80,
   "id": "dd0494cf-b5b8-4f28-bc51-368e48f85ad4",
   "metadata": {},
   "outputs": [],
   "source": [
    "from datetime import datetime\n",
    "\n",
    "fmt = \"%Y-%m-%d\"\n",
    "\n",
    "fileW = open(\"today.txt\",\"w\")\n",
    "fileW.write(str(datetime.now().strftime(fmt)))\n",
    "fileW.close()"
   ]
  },
  {
   "cell_type": "markdown",
   "id": "07190256-eca7-480e-9801-bd1e854bf28c",
   "metadata": {},
   "source": [
    "13.2"
   ]
  },
  {
   "cell_type": "code",
   "execution_count": 83,
   "id": "af542d6c-8dc0-4c91-8cb4-63a9952a8add",
   "metadata": {},
   "outputs": [],
   "source": [
    "fileR = open(\"today.txt\",\"r\")\n",
    "today_string = fileR.read()\n",
    "fileR.close()"
   ]
  },
  {
   "cell_type": "markdown",
   "id": "07f8570f-8006-40e2-b180-cbaa60775558",
   "metadata": {},
   "source": [
    "13.3"
   ]
  },
  {
   "cell_type": "code",
   "execution_count": 86,
   "id": "725e705e-3a2e-4e65-be79-492b1c4998ae",
   "metadata": {},
   "outputs": [],
   "source": [
    "fmt = \"%Y-%m-%d\"\n",
    "parsed_date = datetime.strptime(today_string, fmt)"
   ]
  },
  {
   "cell_type": "markdown",
   "id": "4a505b52-8477-4a39-b9cb-9022a828951c",
   "metadata": {},
   "source": [
    "15.1"
   ]
  },
  {
   "cell_type": "code",
   "execution_count": null,
   "id": "78d2f03c-60f9-44f4-a347-023a5df16c83",
   "metadata": {},
   "outputs": [],
   "source": [
    "import random\n",
    "import multiprocessing\n",
    "import time\n",
    "from datetime import datetime\n",
    "\n",
    "def waitAndSay():\n",
    "    time.sleep(random.uniform(0, 1))\n",
    "    print(datetime.now())\n",
    "\n",
    "if __name__ == \"__main__\":\n",
    "    for n in range(3):\n",
    "        p = multiprocessing.Process(target=waitAndSay)\n",
    "        p.start()"
   ]
  },
  {
   "cell_type": "markdown",
   "id": "bcd3103b-843e-4fee-9b83-78a1109476c3",
   "metadata": {},
   "source": [
    "The above code returns a result in Visual Studio Code but not in Jupyter Notebook. "
   ]
  }
 ],
 "metadata": {
  "kernelspec": {
   "display_name": "Python 3 (ipykernel)",
   "language": "python",
   "name": "python3"
  },
  "language_info": {
   "codemirror_mode": {
    "name": "ipython",
    "version": 3
   },
   "file_extension": ".py",
   "mimetype": "text/x-python",
   "name": "python",
   "nbconvert_exporter": "python",
   "pygments_lexer": "ipython3",
   "version": "3.12.4"
  }
 },
 "nbformat": 4,
 "nbformat_minor": 5
}
